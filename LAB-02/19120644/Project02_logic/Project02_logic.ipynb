{
  "metadata": {
    "kernelspec": {
      "name": "python",
      "display_name": "Pyolite",
      "language": "python"
    },
    "language_info": {
      "codemirror_mode": {
        "name": "python",
        "version": 3
      },
      "file_extension": ".py",
      "mimetype": "text/x-python",
      "name": "python",
      "nbconvert_exporter": "python",
      "pygments_lexer": "ipython3",
      "version": "3.8"
    }
  },
  "nbformat_minor": 5,
  "nbformat": 4,
  "cells": [
    {
      "cell_type": "markdown",
      "source": "## Đồ án 02: Logic\n\n- Họ tên: Lê Đức Tâm\n- MSSV: 19120644",
      "metadata": {},
      "id": "31d230d3-8d5d-419f-b1aa-b479fb1545e6"
    },
    {
      "cell_type": "markdown",
      "source": "<font color='red'>**LƯU Ý:**</font>\n\n- Bài làm của sinh viên phải do chính bản thân sinh viên tự làm, có thể trao đổi và tham khảo ý tưởng nhưng không được sao chép (một phần hoặc toàn bộ) code hoặc lời giải từ bất cứ người nào khác. Nếu vi phạm sẽ bị <font color='red'>0đ</font> bài tập này.\n- Các bạn có thể tạo thêm các cell trong quá trình code, tuy nhiên các bạn vui lòng <font color='red'>không xóa các cell code mặc định và các cell test case</font> (vì có thể ảnh hưởng đến kết quả khi chấm bài).\n- Các test case được đưa ra chỉ nhằm mục đích giúp các bạn test code của mình, việc pass các test case này không đồng nghĩa với việc lời giải của các bạn sẽ đạt điểm tối đa. \n\n**Cách nộp bài**\n\nKhi chấm bài, đầu tiên mình sẽ chọn `Kernel` - `Restart Kernel & Run All Cells`, để restart và chạy tất cả các cell trong notebook của các bạn; do đó, trước khi nộp bài, các bạn nên chạy thử `Kernel` - `Restart Kernel & Run All Cells` để đảm bảo mọi chuyện diễn ra đúng như mong đợi.\n\nSau đó, các bạn tạo thư mục nộp bài theo cấu trúc sau:\n\n- Thư mục `MSSV` (vd, nếu bạn có MSSV là 1234567 thì bạn đặt tên thư mục là `1234567`)\n    - Thư mục `Project02_logic`\n        - File `Project02_logic.ipynb` \n        - Folder `models` và file `logic.py` đính kèm theo đề \n        - Thư mục chứa bài làm câu 4 đặt tên là `PS4`, gồm:\n            - `SRC`: thư mục chứa mã nguồn\n            - `REPORT`: thư mục chứa báo cáo (file .pdf)\n\nCuối cùng, các bạn nén thư mục `MSSV` này lại và nộp ở link trên moodle. **Đuôi của file nén phải là .zip (chứ không được .rar hay gì khác).**\n\n<font color=red>Các bạn lưu ý tuân thủ chính xác qui định nộp bài ở trên.</font>\n\n\n- Mọi thắc mắc trong quá trình làm bài, các bạn có thể gửi mail đến trợ giảng: Lê Thanh Phong (windy.professor@gmail.com)\n\n\n\n<center><font color='green'>CHÚC CÁC BẠN HOÀN THÀNH THẬT TỐT ĐỒ ÁN!</font></center>",
      "metadata": {
        "deletable": false,
        "editable": false,
        "nbgrader": {
          "cell_type": "markdown",
          "checksum": "d23cea8358be3c2933239e0092db115d",
          "grade": false,
          "grade_id": "Instruction_general",
          "locked": true,
          "schema_version": 3,
          "solution": false,
          "task": false
        }
      },
      "id": "38c2e6b9-2b33-4666-93cc-b70ad2775eac"
    },
    {
      "cell_type": "markdown",
      "source": "## Hướng dẫn làm bài: \n\nĐồ án này hướng đến việc giúp các bạn thực hành và kiểm tra kiến thức chương Logic trong môn học Nhập môn Trí tuệ Nhân tạo. \n\nNội dung của đồ án này bao gồm:\n\n- Logic mệnh đề và hợp giải trên logic mệnh đề \n- Logic vị từ \n\nVới các câu hỏi 1-3, các bạn sẽ làm bài trực tiếp trên notebook này. Các bạn cần hoàn thành notebook bằng cách điền lời giải của mình sau các dòng ```# YOUR CODE HERE```. Các bạn sẽ cần sử dụng code để biểu diễn các ký hiệu trong logic theo cú pháp trong bảng sau: \n\n<center>\n    \n|  | Biểu diễn bằng ký hiệu toán học | Cú pháp code sử dụng | \n|:---|:----:|---|\n| Ký hiệu hằng số (constant symbol) | hcmus | ```Constant('hcmus')``` (ghi thường) | \n| Ký hiệu biến (variable symbol) | $x$ | ```Variable('$x')``` (ghi thường) | \n| Câu nguyên tố (atomic formula) | Rain, LocatedIn(hcmus, $x$) | ```Atom('Rain')```, ```Atom('LocatedIn', 'hcmus', '$x')``` <br> (Kí hiệu vị từ ghi hoa, đối số ghi thường) |\n| Phép phủ định (negation) | $\\neg$ Rain | ```Not(Atom('Rain'))```|\n| Phép và (conjunction)| Rain $\\land$ Snow | ```And(Atom('Rain'), Atom('Snow'))```|\n| Phép hoặc (disjunction) | Rain $\\lor$ Snow | ```Or(Atom('Rain'), Atom('Snow'))```|\n| Phép kéo theo (implication) | Rain $\\Rightarrow$ Wet | ```Implies(Atom('Rain'), Atom('Wet'))```|\n| Phép tương đương (equivalence) | Rain $\\Leftrightarrow$ Wet | ```Equiv(Atom('Rain'), Atom('Wet'))```|\n| Lượng từ tồn tại (existential quantification) | $\\exists x$ LocatedIn(hcmus,$x$) | ```Exists('$x', Atom('LocatedIn', 'hcmus', '$x'))```|\n| Lượng từ với mọi (universal quantification) | $\\forall x$ MadeOfAtoms($x$) | ```Forall('$x', Atom('MadeOfAtoms', '$x'))```|    \n| Phép và với nhiều đối số <br>(tương tự với phép hoặc)| A $\\land$ B $\\land$ C | ```AndList([Atom('A'), Atom('B'), Atom('C')]) ```|\n  \n    \n</center>",
      "metadata": {
        "deletable": false,
        "editable": false,
        "nbgrader": {
          "cell_type": "markdown",
          "checksum": "b3515bac92a91d118fca6c62c2011c05",
          "grade": false,
          "grade_id": "Instruction_notation",
          "locked": true,
          "schema_version": 3,
          "solution": false,
          "task": false
        }
      },
      "id": "1de1821d-3b5e-4f24-9041-415f2444230d"
    },
    {
      "cell_type": "code",
      "source": "# util function for testing your code, DO NOT modify!!!\n\nimport pickle, gzip, os, random\nimport sys\nimport os\nimport collections\n\nfrom logic import *\nfrom typing import Tuple, List\n\ndef checkFormula(name, predForm, preconditionForm=None):\n    filename = os.path.join('models', name + '.pklz')\n    objects, targetModels = pickle.load(gzip.open(filename)) \n    \n    # If preconditionion exists, change the formula to\n    preconditionPredForm = And(preconditionForm, predForm) if preconditionForm else predForm\n    predModels = performModelChecking([preconditionPredForm], findAll=True, objects=objects)\n    ok = True\n    \n    def hashkey(model): return tuple(sorted(str(atom) for atom in model))\n    targetModelSet = set(hashkey(model) for model in targetModels)\n    predModelSet = set(hashkey(model) for model in predModels)\n    for model in targetModels:\n        if hashkey(model) not in predModelSet:\n            print(\"Your formula (%s) says the following model is FALSE, but it should be TRUE:\" % predForm)\n            ok = False\n            printModel(model)\n            return\n    for model in predModels:\n        if hashkey(model) not in targetModelSet:\n            print(\"Your formula (%s) says the following model is TRUE, but it should be FALSE:\" % predForm)\n            ok = False\n            printModel(model)\n            return\n        \n    print(f\"You matched the {len(targetModels)} models\")\n    print(f\"Example model: {rstr(random.choice(targetModels))}\")\n    return True\n",
      "metadata": {
        "deletable": false,
        "editable": false,
        "nbgrader": {
          "cell_type": "code",
          "checksum": "c707489fd19fa15ab92870230e2c32d1",
          "grade": false,
          "grade_id": "Grading",
          "locked": true,
          "schema_version": 3,
          "solution": false,
          "task": false
        }
      },
      "execution_count": 2,
      "outputs": [],
      "id": "f5d066c7-f6c9-4be5-bdb1-ca8717b4d3c0"
    },
    {
      "cell_type": "code",
      "source": "# import other modules if you need them \n",
      "metadata": {},
      "execution_count": null,
      "outputs": [],
      "id": "e96bc302-82da-4dbb-905b-88a482152348"
    },
    {
      "cell_type": "markdown",
      "source": "## Câu 1: Logic mệnh đề (0.75đ)\n\nChuyển các câu dưới đây từ ngôn ngữ tự nhiên thành công thức logic mệnh đề.\n\nVí dụ, với câu: \"Nếu trời mưa thì đường trơn\" thì cách viết sẽ là:\n\n```\ndef rainWet():\n    Rain = Atom('Rain') # Trời mưa\n    Wet = Atom('Wet') # Đường trơn\n    return Implies(Rain, Wet)\n```",
      "metadata": {
        "deletable": false,
        "editable": false,
        "nbgrader": {
          "cell_type": "markdown",
          "checksum": "804aa58ae3ce0045ab0bfe895a51a09d",
          "grade": false,
          "grade_id": "PS1",
          "locked": true,
          "schema_version": 3,
          "solution": false,
          "task": false
        }
      },
      "id": "5c96f1cf-748a-408d-8ebf-594bec4b5733"
    },
    {
      "cell_type": "markdown",
      "source": "\n**1a) Nếu hiện tại là mùa hè và chúng tôi đang ở California, thì trời không mưa**",
      "metadata": {
        "deletable": false,
        "editable": false,
        "nbgrader": {
          "cell_type": "markdown",
          "checksum": "fff775d48d26d048a0046d299e80327d",
          "grade": false,
          "grade_id": "1a",
          "locked": true,
          "schema_version": 3,
          "solution": false,
          "task": false
        }
      },
      "id": "f8737d19-2235-4413-8e54-90c294b67c9d"
    },
    {
      "cell_type": "code",
      "source": "def formula1a() -> Formula:\n    # Predicates to use:\n    Summer = Atom('Summer')               # whether it's summer\n    California = Atom('California')       # whether we're in California\n    Rain = Atom('Rain')                   # whether it's raining\n    \n    # YOUR CODE HERE\n    return Implies(And(Summer, California), Not(Rain))",
      "metadata": {
        "deletable": false,
        "nbgrader": {
          "cell_type": "code",
          "checksum": "341f0fcc7089dfa4be5c2ac28f177e05",
          "grade": false,
          "grade_id": "TODO_1a",
          "locked": false,
          "schema_version": 3,
          "solution": true,
          "task": false
        }
      },
      "execution_count": 5,
      "outputs": [],
      "id": "ab638904-2299-4b34-9c2f-2493ac6faa5a"
    },
    {
      "cell_type": "code",
      "source": "assert checkFormula('1a', formula1a()) == True",
      "metadata": {
        "deletable": false,
        "editable": false,
        "nbgrader": {
          "cell_type": "code",
          "checksum": "4311711d7df425b84cf069751f5a53b3",
          "grade": true,
          "grade_id": "GRADE_1a",
          "locked": true,
          "points": 0.25,
          "schema_version": 3,
          "solution": false,
          "task": false
        }
      },
      "execution_count": 8,
      "outputs": [
        {
          "name": "stdout",
          "output_type": "stream",
          "text": "You matched the 7 models\n\nExample model: {'Summer', 'Rain'}\n"
        }
      ],
      "id": "b61cdd92-b031-4796-8a3c-f7ed3806b286"
    },
    {
      "cell_type": "markdown",
      "source": "**1b) Đường trơn khi và chỉ khi trời mưa hoặc vòi phun nước đang mở**",
      "metadata": {
        "deletable": false,
        "editable": false,
        "nbgrader": {
          "cell_type": "markdown",
          "checksum": "6bdc62f0741bf7a4d8adeefb31ac633a",
          "grade": false,
          "grade_id": "1b",
          "locked": true,
          "schema_version": 3,
          "solution": false,
          "task": false
        }
      },
      "id": "c0aa1650-6df5-4628-866b-fb45baad46f9"
    },
    {
      "cell_type": "code",
      "source": "def formula1b() -> Formula:\n    # Predicates to use:\n    Rain = Atom('Rain')              # whether it is raining\n    Wet = Atom('Wet')                # whether it it wet\n    Sprinklers = Atom('Sprinklers')  # whether the sprinklers are on\n    # YOUR CODE HERE\n    return Equiv(Wet, Or(Rain, Sprinklers))",
      "metadata": {
        "deletable": false,
        "nbgrader": {
          "cell_type": "code",
          "checksum": "ca647913af511b7c358f04f498f9e40e",
          "grade": false,
          "grade_id": "TODO_1b",
          "locked": false,
          "schema_version": 3,
          "solution": true,
          "task": false
        }
      },
      "execution_count": 11,
      "outputs": [],
      "id": "cc2d451d-c4a7-41b2-8234-c57115e764d3"
    },
    {
      "cell_type": "code",
      "source": "assert checkFormula('1b', formula1b()) == True",
      "metadata": {
        "deletable": false,
        "editable": false,
        "nbgrader": {
          "cell_type": "code",
          "checksum": "b1cffbb8239b90dbdce5a7f3552016ea",
          "grade": true,
          "grade_id": "GRADE_1b",
          "locked": true,
          "points": 0.25,
          "schema_version": 3,
          "solution": false,
          "task": false
        }
      },
      "execution_count": 12,
      "outputs": [
        {
          "name": "stdout",
          "output_type": "stream",
          "text": "You matched the 4 models\n\nExample model: {'Wet', 'Rain', 'Sprinklers'}\n"
        }
      ],
      "id": "6b5aae23-b6d0-498a-90bf-017d67c9b814"
    },
    {
      "cell_type": "markdown",
      "source": "**1c) Hoặc là ngày hoặc là đêm (nhưng không đồng thời là hai trường hợp trên)**",
      "metadata": {
        "deletable": false,
        "editable": false,
        "nbgrader": {
          "cell_type": "markdown",
          "checksum": "452e5862978da9157cb2c728b3eea70b",
          "grade": false,
          "grade_id": "1c",
          "locked": true,
          "schema_version": 3,
          "solution": false,
          "task": false
        }
      },
      "id": "abe2f437-f759-44ea-b09b-f3374a92ead4"
    },
    {
      "cell_type": "code",
      "source": "def formula1c() -> Formula:\n    # Predicates to use:\n    Day = Atom('Day')     # whether it's day\n    Night = Atom('Night') # whether it's night\n    # YOUR CODE HERE\n    return Or(And(Day,Not(Night)),And(Night,Not(Day)))\n   ",
      "metadata": {
        "deletable": false,
        "nbgrader": {
          "cell_type": "code",
          "checksum": "f583d7154c33bcf32eb914f84a5cc6e1",
          "grade": false,
          "grade_id": "TODO_1c",
          "locked": false,
          "schema_version": 3,
          "solution": true,
          "task": false
        }
      },
      "execution_count": 13,
      "outputs": [],
      "id": "8b70a51d-4344-4889-8b9c-11c3efdfd455"
    },
    {
      "cell_type": "code",
      "source": "assert checkFormula('1c', formula1c()) == True",
      "metadata": {
        "deletable": false,
        "editable": false,
        "nbgrader": {
          "cell_type": "code",
          "checksum": "3bf6adfb29c3b72dde0144f53ba6f9cb",
          "grade": true,
          "grade_id": "GRADE_1c",
          "locked": true,
          "points": 0.25,
          "schema_version": 3,
          "solution": false,
          "task": false
        }
      },
      "execution_count": 15,
      "outputs": [
        {
          "name": "stdout",
          "output_type": "stream",
          "text": "You matched the 2 models\n\nExample model: {'Day'}\n"
        }
      ],
      "id": "43ab7ec7-5a83-4cc6-adfe-d83040c9ec15"
    },
    {
      "cell_type": "markdown",
      "source": "## Câu 2: Logic vị từ (2đ)\n\nChuyển các câu dưới đây từ ngôn ngữ tự nhiên thành công thức logic vị từ.\n\nVí dụ, với câu: \"Tồn tại một nguồn sáng phát sáng\"\n\n```\ndef lightShines():\n    def Light(x): return Atom('Light', x)    # x là nguồn sáng\n    def Shines(x): return Atom('Shines', x)  # x phát sáng\n    return Exists('$x', And(Light('$x'), Shines('$x')))\n```",
      "metadata": {
        "deletable": false,
        "editable": false,
        "nbgrader": {
          "cell_type": "markdown",
          "checksum": "1fe5d01ed5b03b7e72688737e515bdd4",
          "grade": false,
          "grade_id": "PS2",
          "locked": true,
          "schema_version": 3,
          "solution": false,
          "task": false
        }
      },
      "id": "e6658612-1ed3-4d3b-afb5-9c5a01226dd8"
    },
    {
      "cell_type": "markdown",
      "source": "**2a) Mọi người đều có mẹ**",
      "metadata": {
        "deletable": false,
        "editable": false,
        "nbgrader": {
          "cell_type": "markdown",
          "checksum": "18642dd2629e33d648457278aa30d33d",
          "grade": false,
          "grade_id": "2a",
          "locked": true,
          "schema_version": 3,
          "solution": false,
          "task": false
        }
      },
      "id": "7117c216-ff0b-42b7-bf3d-b2bfd390b5bb"
    },
    {
      "cell_type": "code",
      "source": "def formula2a() -> Formula:\n    # Predicates to use:\n    def Person(x): return Atom('Person', x)        # whether x is a person\n    def Mother(x, y): return Atom('Mother', x, y)  # whether x's mother is y\n\n    # Note: You do NOT have to enforce that the mother is a \"person\"\n    # YOUR CODE HERE\n    return Forall('$x',Exists('$y',Implies(Person('$x'), Mother('$x', '$y'))))",
      "metadata": {
        "deletable": false,
        "nbgrader": {
          "cell_type": "code",
          "checksum": "7451f6d57e671ca4c4293f2e3d1e194c",
          "grade": false,
          "grade_id": "TODO_2a",
          "locked": false,
          "schema_version": 3,
          "solution": true,
          "task": false
        }
      },
      "execution_count": 20,
      "outputs": [],
      "id": "f1616eba-8a73-45a4-babd-d806a90f9e3c"
    },
    {
      "cell_type": "code",
      "source": "formula2a_precondition = AntiReflexive('Mother')\nassert checkFormula('2a', formula2a(), formula2a_precondition) == True",
      "metadata": {
        "deletable": false,
        "editable": false,
        "nbgrader": {
          "cell_type": "code",
          "checksum": "adc7e86e7be8436cf8c4066098a41ce8",
          "grade": true,
          "grade_id": "GRADE_2a",
          "locked": true,
          "points": 0.5,
          "schema_version": 3,
          "solution": false,
          "task": false
        }
      },
      "execution_count": 21,
      "outputs": [
        {
          "name": "stdout",
          "output_type": "stream",
          "text": "You matched the 343 models\n\nExample model: {'Person(o1)', 'Mother(o2,o3)', 'Mother(o3,o2)', 'Mother(o3,o1)', 'Person(o3)', 'Mother(o1,o3)'}\n"
        }
      ],
      "id": "753ce6de-934d-421d-8c42-05256e35126d"
    },
    {
      "cell_type": "markdown",
      "source": "**2b) Ít nhất một người không có con cái**",
      "metadata": {
        "deletable": false,
        "editable": false,
        "nbgrader": {
          "cell_type": "markdown",
          "checksum": "57f5a4b14426c5cdaf1d7d24822add74",
          "grade": false,
          "grade_id": "2b",
          "locked": true,
          "schema_version": 3,
          "solution": false,
          "task": false
        }
      },
      "id": "b12d3efd-52e0-4125-977d-9b4b109aa403"
    },
    {
      "cell_type": "code",
      "source": "def formula2b() -> Formula:\n    # Predicates to use:\n    def Person(x): return Atom('Person', x)        # whether x is a person\n    def Child(x, y): return Atom('Child', x, y)    # whether x has a child y\n\n    # Note: You do NOT have to enforce that the child is a \"person\"\n    # YOUR CODE HERE\n    return Exists('$x',Not(Exists('$y',Implies(Person('$x'), Child('$x', '$y')))))",
      "metadata": {
        "deletable": false,
        "nbgrader": {
          "cell_type": "code",
          "checksum": "3dc7608b1d6412a46021be2e4f394289",
          "grade": false,
          "grade_id": "TODO_2b",
          "locked": false,
          "schema_version": 3,
          "solution": true,
          "task": false
        }
      },
      "execution_count": 28,
      "outputs": [],
      "id": "39e9b434-31a7-4947-88ba-370df7686a2a"
    },
    {
      "cell_type": "code",
      "source": "formula2b_precondition = AntiReflexive('Child')\nassert checkFormula('2b', formula2b(), formula2b_precondition) == True",
      "metadata": {
        "deletable": false,
        "editable": false,
        "nbgrader": {
          "cell_type": "code",
          "checksum": "9e849710524293f2620ea5c21102fb00",
          "grade": true,
          "grade_id": "GRADE_2b",
          "locked": true,
          "points": 0.5,
          "schema_version": 3,
          "solution": false,
          "task": false
        }
      },
      "execution_count": 29,
      "outputs": [
        {
          "name": "stdout",
          "output_type": "stream",
          "text": "You matched the 169 models\n\nExample model: {'Person(o2)', 'Person(o3)', 'Child(o2,o3)'}\n"
        }
      ],
      "id": "100699d7-4f0c-4db6-a34e-ace99dc16536"
    },
    {
      "cell_type": "markdown",
      "source": "**2c) Viết công thức định nghĩa Daughter (con gái) theo Female (nữ) và Child (con)**",
      "metadata": {
        "deletable": false,
        "editable": false,
        "nbgrader": {
          "cell_type": "markdown",
          "checksum": "b28327140fa723d5ca78c16e65defa4a",
          "grade": false,
          "grade_id": "2c",
          "locked": true,
          "schema_version": 3,
          "solution": false,
          "task": false
        }
      },
      "id": "686cff52-0de8-4d7d-89ee-6285af21bf59"
    },
    {
      "cell_type": "markdown",
      "source": "Ví dụ về dạng 2c và 2d:\n\n```\n# Định nghĩa Parent theo Child\ndef parentChild():\n    def Parent(x, y): return Atom('Parent', x, y)  # whether x has a parent y\n    def Child(x, y): return Atom('Child', x, y)    # whether x has a child y\n    return Forall('$x', Forall('$y', Equiv(Parent('$x', '$y'), Child('$y', '$x'))))\n    \n```",
      "metadata": {
        "deletable": false,
        "editable": false,
        "nbgrader": {
          "cell_type": "markdown",
          "checksum": "4e2fa63ec9cfa6e436de42adefcfce17",
          "grade": false,
          "grade_id": "example2c2d",
          "locked": true,
          "schema_version": 3,
          "solution": false,
          "task": false
        }
      },
      "id": "f280d7b7-c3de-4de0-b915-6a3be533ffb8"
    },
    {
      "cell_type": "code",
      "source": "def formula2c() -> Formula:\n    # Predicates to use:\n    def Female(x): return Atom('Female', x)            # whether x is female\n    def Child(x, y): return Atom('Child', x, y)        # whether x has a child y\n    def Daughter(x, y): return Atom('Daughter', x, y)  # whether x has a daughter y\n    \n    # YOUR CODE HERE\n    return Forall('$x', Forall('$y', Equiv(Daughter('$x', '$y'), And(Female('$y'), Child('$x', '$y')))))",
      "metadata": {
        "deletable": false,
        "nbgrader": {
          "cell_type": "code",
          "checksum": "c859bfe231a29b4f6883679e7fad9678",
          "grade": false,
          "grade_id": "TODO_2c",
          "locked": false,
          "schema_version": 3,
          "solution": true,
          "task": false
        }
      },
      "execution_count": 30,
      "outputs": [],
      "id": "be165a61-9082-4093-a5e0-0383591b7481"
    },
    {
      "cell_type": "code",
      "source": "formula2c_precondition = AntiReflexive('Child')\nassert checkFormula('2c', formula2c(), formula2c_precondition) == True",
      "metadata": {
        "deletable": false,
        "editable": false,
        "nbgrader": {
          "cell_type": "code",
          "checksum": "2d4c21dd318cf78ac21a08ca7a9a4eec",
          "grade": true,
          "grade_id": "GRADE_2c",
          "locked": true,
          "points": 0.5,
          "schema_version": 3,
          "solution": false,
          "task": false
        }
      },
      "execution_count": 31,
      "outputs": [
        {
          "name": "stdout",
          "output_type": "stream",
          "text": "You matched the 512 models\n\nExample model: {'Child(o3,o2)', 'Female(o1)', 'Child(o1,o2)'}\n"
        }
      ],
      "id": "61774de9-4568-4cee-b094-5c839b7ff39b"
    },
    {
      "cell_type": "markdown",
      "source": "**2d) Viết công thức định nghĩa Grandmother (bà) theo Female (nữ) và Parent (phụ huynh)**",
      "metadata": {},
      "id": "afbf1bbb-4391-43ba-bb5c-23d76d973292"
    },
    {
      "cell_type": "code",
      "source": "# Note: It is ok for a person to be her own parent\ndef formula2d() -> Formula:\n    # Predicates to use:\n    def Female(x): return Atom('Female', x)                  # whether x is female\n    def Parent(x, y): return Atom('Parent', x, y)            # whether x has a parent y\n    def Grandmother(x, y): return Atom('Grandmother', x, y)  # whether x has a grandmother y\n    # YOUR CODE HERE\n    return Forall('$z', Forall('$x', Equiv(Grandmother('$z', '$x'), Exists('$y', AndList([Female('$x'), Parent('$z', '$y'), Parent('$y', '$x')])))))",
      "metadata": {
        "deletable": false,
        "nbgrader": {
          "cell_type": "code",
          "checksum": "916d494d505771f7b7b067ad71b9db24",
          "grade": false,
          "grade_id": "TODO_2d",
          "locked": false,
          "schema_version": 3,
          "solution": true,
          "task": false
        },
        "tags": []
      },
      "execution_count": 34,
      "outputs": [],
      "id": "c055ddda-da9c-4f6f-a4a1-c92aa2020bbc"
    },
    {
      "cell_type": "code",
      "source": "formula2d_precondition = AntiReflexive('Parent')\nassert checkFormula('2d', formula2d(), formula2d_precondition) == True",
      "metadata": {
        "deletable": false,
        "editable": false,
        "nbgrader": {
          "cell_type": "code",
          "checksum": "b2887dc2da0c2e45d722694fea3103e9",
          "grade": true,
          "grade_id": "GRADE_2d",
          "locked": true,
          "points": 0.5,
          "schema_version": 3,
          "solution": false,
          "task": false
        }
      },
      "execution_count": 35,
      "outputs": [
        {
          "name": "stdout",
          "output_type": "stream",
          "text": "You matched the 512 models\n\nExample model: {'Parent(o3,o2)', 'Female(o3)', 'Parent(o3,o1)'}\n"
        }
      ],
      "id": "198c4603-71a1-4fd5-ae23-7a41152bc15f"
    },
    {
      "cell_type": "markdown",
      "source": "## Câu 3: Logic vị từ - Ai là người nói dối? (2.25đ)\n\nTrong bài tập này, ta sẽ vận dụng logic vị từ để giải bài toán sau đây:\n\nMột nhân viên nào đó ở Facebook đã gây ra lỗi nghiêm trọng làm sập server, và mọi người đang bàn tán xem ai là người gây ra sự cố này. Sau một hồi điều tra, người ta đã xác định được 4 nghi phạm: John, Susan, Mark, Nicole. \n\nTa có các thông tin sau:\n\n- John khai rằng: \"Tôi không phải là người làm sập server!\"\n- Susan nói: \"Thủ phạm chính là Nicole\"\n- Mark nói: \"Không đâu, Susan làm sập server đó!\"\n- Nicole khai rằng: \"Susan nói dối đó, mọi người đừng tin\"\n- Chỉ có **duy nhất 1 người** nói thật \n- Chỉ có **duy nhất 1 người** làm sập server \n\nCác bạn hãy hoàn thành hàm ```liar()``` trả về một danh sách chứa 6 công thức logic vị từ ứng với 6 thông tin đã cho để tìm ra người đã nói dối trong quá trình điều tra nhé!",
      "metadata": {
        "deletable": false,
        "editable": false,
        "nbgrader": {
          "cell_type": "markdown",
          "checksum": "e5f9fe3a9fa715720bdbeb41281f551d",
          "grade": false,
          "grade_id": "PS3",
          "locked": true,
          "schema_version": 3,
          "solution": false,
          "task": false
        }
      },
      "id": "47eafff7-af60-4f6f-a0b3-5b044cbda778"
    },
    {
      "cell_type": "code",
      "source": "# Problem 3: Liar puzzle\n\n# Facts:\n# 0. John: \"It wasn't me!\"\n# 1. Susan: \"It was Nicole!\"\n# 2. Mark: \"No, it was Susan!\"\n# 3. Nicole: \"Susan's a liar.\"\n# 4. Exactly one person is telling the truth.\n# 5. Exactly one person crashed the server.\n# Query: Who did it?\n\n# This function returns a list of 6 formulas corresponding to each of the\n# above facts. Be sure your formulas are exactly in the order specified. \n\n\n# Hint: For fact 4 & 5, you might want to use the Equals predicate, defined as:\n# def Equals(x, y): return Atom('Equals', x, y)\n# This predicate is used to assert that two objects are the same.\n# In particular, Equals(x,x) = True and Equals(x,y) = False iff x is not equal to y. \n# It can also be solved in other ways, without the Equals predicate!\n    \ndef liar() -> Tuple[List[Formula], Formula]:\n    def TellTruth(x): return Atom('TellTruth', x)\n    def CrashedServer(x): return Atom('CrashedServer', x)\n    john = Constant('john')\n    susan = Constant('susan')\n    nicole = Constant('nicole')\n    mark = Constant('mark')\n    formulas = []\n    # We provide the formula for fact 0 here.\n    formulas.append(Equiv(TellTruth(john), Not(CrashedServer(john))))\n    \n    # You should add 5 formulas, one for each of facts 1-5.\n    # YOUR CODE HERE\n    # 1. Susan: \"It was Nicole!\"\n    formulas.append(Equiv(TellTruth(susan), CrashedServer(nicole)))\n    formulas.append(Equiv(TellTruth(mark), CrashedServer(susan)))\n    formulas.append(Equiv(TellTruth(nicole), Not(TellTruth(susan))))\n    def Equals(x, y): return Atom('Equals', x, y)\n    formulas.append(Exists('$x', Forall('$y', Equiv(TellTruth('$y'), Equals('$x', '$y')))))\n    formulas.append(Exists('$x', Forall('$y', Equiv(CrashedServer('$y'), Equals('$x', '$y')))))\n\n    query = CrashedServer('$x')\n    return (formulas, query)\n",
      "metadata": {
        "deletable": false,
        "nbgrader": {
          "cell_type": "code",
          "checksum": "b3561f704eab2e11ffbe7591bcbff241",
          "grade": false,
          "grade_id": "TODO_3",
          "locked": false,
          "schema_version": 3,
          "solution": true,
          "task": false
        }
      },
      "execution_count": 56,
      "outputs": [],
      "id": "1cfd51f7-edc2-4e6b-b9d0-395475172807"
    },
    {
      "cell_type": "code",
      "source": "# test case\npredForms, predQuery = liar()\nassert len(predForms) == 6",
      "metadata": {
        "deletable": false,
        "editable": false,
        "nbgrader": {
          "cell_type": "code",
          "checksum": "557f64fc35db6ab75db33121253c6e7d",
          "grade": true,
          "grade_id": "GRADE_3_len",
          "locked": true,
          "points": 0.25,
          "schema_version": 3,
          "solution": false,
          "task": false
        }
      },
      "execution_count": 57,
      "outputs": [],
      "id": "a4768aa8-f21c-4cec-8548-7a9d907b88f0"
    },
    {
      "cell_type": "code",
      "source": "# test case\npredForms, predQuery = liar()\nformula_id = 0\nassert checkFormula('3a-' + str(formula_id), predForms[formula_id]) == True",
      "metadata": {
        "deletable": false,
        "editable": false,
        "nbgrader": {
          "cell_type": "code",
          "checksum": "81025d8ba444d5fe5b1f4cfb604fd034",
          "grade": false,
          "grade_id": "GRADE_3_0",
          "locked": true,
          "schema_version": 3,
          "solution": false,
          "task": false
        }
      },
      "execution_count": 59,
      "outputs": [
        {
          "name": "stdout",
          "output_type": "stream",
          "text": "You matched the 2 models\n\nExample model: {'CrashedServer(john)'}\n"
        }
      ],
      "id": "0755467c-7a14-460b-8c39-ca52a91fdc1d"
    },
    {
      "cell_type": "code",
      "source": "# test case\npredForms, predQuery = liar()\nformula_id = 1\nassert checkFormula('3a-' + str(formula_id), predForms[formula_id]) == True",
      "metadata": {
        "deletable": false,
        "editable": false,
        "nbgrader": {
          "cell_type": "code",
          "checksum": "d3e76dfc652e2fb0f43cf137eee0f6e2",
          "grade": true,
          "grade_id": "GRADE_3_1",
          "locked": true,
          "points": 0.25,
          "schema_version": 3,
          "solution": false,
          "task": false
        }
      },
      "execution_count": 60,
      "outputs": [
        {
          "name": "stdout",
          "output_type": "stream",
          "text": "You matched the 2 models\n\nExample model: set()\n"
        }
      ],
      "id": "a7cc7814-98e3-484e-84e7-eec52f97b8ca"
    },
    {
      "cell_type": "code",
      "source": "# test case\npredForms, predQuery = liar()\nformula_id = 2\nassert checkFormula('3a-' + str(formula_id), predForms[formula_id]) == True",
      "metadata": {
        "deletable": false,
        "editable": false,
        "nbgrader": {
          "cell_type": "code",
          "checksum": "3a26820737ec66d1f4be47cadaf0c17a",
          "grade": true,
          "grade_id": "GRADE_3_2",
          "locked": true,
          "points": 0.25,
          "schema_version": 3,
          "solution": false,
          "task": false
        }
      },
      "execution_count": 61,
      "outputs": [
        {
          "name": "stdout",
          "output_type": "stream",
          "text": "You matched the 2 models\n\nExample model: {'CrashedServer(susan)', 'TellTruth(mark)'}\n"
        }
      ],
      "id": "027c9788-4906-42a1-b9af-cfc81900eac0"
    },
    {
      "cell_type": "code",
      "source": "# test case\npredForms, predQuery = liar()\nformula_id = 3\nassert checkFormula('3a-' + str(formula_id), predForms[formula_id]) == True",
      "metadata": {
        "deletable": false,
        "editable": false,
        "nbgrader": {
          "cell_type": "code",
          "checksum": "ccfa4b85ba7cc952f29b5149afde7b57",
          "grade": true,
          "grade_id": "GRADE_3_3",
          "locked": true,
          "points": 0.25,
          "schema_version": 3,
          "solution": false,
          "task": false
        }
      },
      "execution_count": 62,
      "outputs": [
        {
          "name": "stdout",
          "output_type": "stream",
          "text": "You matched the 2 models\n\nExample model: {'TellTruth(susan)'}\n"
        }
      ],
      "id": "b73aaf00-0506-4cad-a968-99e764d4b117"
    },
    {
      "cell_type": "code",
      "source": "# test case\npredForms, predQuery = liar()\nformula_id = 4\nassert checkFormula('3a-' + str(formula_id), predForms[formula_id]) == True",
      "metadata": {
        "deletable": false,
        "editable": false,
        "nbgrader": {
          "cell_type": "code",
          "checksum": "5c62e4a42d9a21a9dbfd7490c4494d52",
          "grade": true,
          "grade_id": "GRADE_3_4",
          "locked": true,
          "points": 0.5,
          "schema_version": 3,
          "solution": false,
          "task": false
        }
      },
      "execution_count": 63,
      "outputs": [
        {
          "name": "stdout",
          "output_type": "stream",
          "text": "You matched the 4 models\n\nExample model: {'TellTruth(mark)'}\n"
        }
      ],
      "id": "245c0f63-5ad7-452d-9d3c-5b3590563b39"
    },
    {
      "cell_type": "code",
      "source": "# test case\npredForms, predQuery = liar()\nformula_id = 5\nassert checkFormula('3a-' + str(formula_id), predForms[formula_id]) == True",
      "metadata": {
        "deletable": false,
        "editable": false,
        "nbgrader": {
          "cell_type": "code",
          "checksum": "76d61f4ba9ba6f2b3aaa6d15dfad1b0d",
          "grade": true,
          "grade_id": "GRADE_3_5",
          "locked": true,
          "points": 0.5,
          "schema_version": 3,
          "solution": false,
          "task": false
        }
      },
      "execution_count": 64,
      "outputs": [
        {
          "name": "stdout",
          "output_type": "stream",
          "text": "You matched the 4 models\n\nExample model: {'CrashedServer(john)'}\n"
        }
      ],
      "id": "0ea1a479-8381-46bc-99aa-7a17564a1b5d"
    },
    {
      "cell_type": "code",
      "source": "# test case\npredForms, predQuery = liar()\nassert checkFormula('3a-all', AndList(predForms)) == True",
      "metadata": {
        "deletable": false,
        "editable": false,
        "nbgrader": {
          "cell_type": "code",
          "checksum": "1b55fc3527dc27fb73144bb85e545310",
          "grade": true,
          "grade_id": "GRADE_3_ALL",
          "locked": true,
          "points": 0.25,
          "schema_version": 3,
          "solution": false,
          "task": false
        }
      },
      "execution_count": 65,
      "outputs": [
        {
          "name": "stdout",
          "output_type": "stream",
          "text": "You matched the 1 models\n\nExample model: {'TellTruth(nicole)', 'CrashedServer(john)'}\n"
        }
      ],
      "id": "fb6d4072-2a0d-4da6-90e1-1252be4c8699"
    },
    {
      "cell_type": "markdown",
      "source": "Hãy chạy cell dưới đây để xem bạn đã giải được bài toán đặt ra chưa nhé :) ",
      "metadata": {},
      "id": "a5299bd8-afa3-4a42-8474-c32f3de48d1c"
    },
    {
      "cell_type": "code",
      "source": "# Run this cell to solve the puzzle and find out who was the liar!\ntry:\n    predForms, predQuery = liar()\n    kb = createModelCheckingKB()\n\n    filename = os.path.join('models', '3a-all.pklz')\n    objects, targetModels = pickle.load(gzip.open(filename))\n    for obj in objects:\n        kb.tell(Atom('Object', obj))\n\n    for predForm in predForms:\n        response = kb.tell(predForm)\n\n    response = kb.ask(predQuery)\n    showKBResponse(response)\nexcept:\n    print('You failed!')",
      "metadata": {
        "deletable": false,
        "editable": false,
        "nbgrader": {
          "cell_type": "code",
          "checksum": "15f15717437f3fa617968d333978a007",
          "grade": false,
          "grade_id": "3_RUN_SOLUTION",
          "locked": true,
          "schema_version": 3,
          "solution": false,
          "task": false
        }
      },
      "execution_count": 66,
      "outputs": [
        {
          "name": "stdout",
          "output_type": "stream",
          "text": "Yes: ['john']\n\nMaybe: []\n\nNo: ['mark', 'nicole', 'susan']\n"
        }
      ],
      "id": "62ddbb78-e942-4a30-9d12-624e75243caf"
    },
    {
      "cell_type": "markdown",
      "source": "## Câu 4: Hợp giải trên logic mệnh đề (5đ)\n\n**Phần này các bạn tự thiết kế và code bằng các script python, không viết vào notebook này.**",
      "metadata": {},
      "id": "6016af95-8298-465e-911c-0a3bc4a18b19"
    },
    {
      "cell_type": "markdown",
      "source": "Cho cơ sở tri thức **(KB)** và một câu $\\alpha$, cả hai đều được biểu diễn bằng logic mệnh đề và được chuẩn hóa về dạng hội chuẩn CNF. Xác định KB entails $\\alpha$ (KB $\\vDash \\alpha$) bằng hợp giải.\n\nGợi ý tham khảo: Sách Artificial Intelligence: A Modern Approach, Third Edition, Chương 7, Hình 7.12, hàm PL-RESOLUTION\n\n- Báo cáo ít nhất 5 kịch bản kiểm thử để thể hiện chứơng trình chạy hợp lệ (và do đó kịch bản không nên quá đơn giản). \n- Đánh giá ngắn gọn về  ưu điểm và khuyết điểm của giải thuật hợp giải trên logic mệnh đề, cũng như đề xuất giải pháp để khắc phục vấn dề.\n\n**a. Đặc tả dữ liệu đầu vào và đầu ra**\n\n- **Dữ liệu đầu vào**: **KB** và $\\alpha$ theo dạng chuẩn CNF được lưu trong tập tin **input.txt**. Tập tin có định dạng quy ước như sau:\n    - Dòng đầu tiên chứa câu $\\alpha$\n    - Dòng thứ hai chứa số nguyên N – số mệnh đề có trong KB\n    - N dòng tiếp theo biểu diễn các mệnh đề trong KB, mỗi mệnh đề trên một dòng\n\nLiteral dương được biểu diễn bằng ký tự đơn viết hoa (A-Z). Literal âm là literal dương có dấu trừ (‘-‘) ngay trước ký tự\n\nTừ khóa OR nối các literal nối với nhau. Có thể có một hay nhiều khoảng trắng giữa các literal và từ khóa\n\n- **Dữ liệu đầu ra**: Tập hợp mệnh đề được phát sinh trong quá trình hợp giải và câu kết luận được lưu trong tập tin **output.txt**. Tập tin có định dạng quy ước như sau:\n    - Dòng đầu tiên chứa số nguyên M1 – số mệnh đề được phát sinh trong vòng lặp đầu tiên. M1 dòng tiếp theo biểu diễn các mệnh đề được phát sinh trong vòng lặp đầu tiên (kể cả mệnh đề rỗng), mỗi mệnh đề trên một dòng. Mệnh đề rỗng được biểu diễn bằng chuỗi “{}”\n    - Các vòng lặp tiếp theo (lần lượt có $M_2$, $M_3$,…, $M_n$ mệnh đề) được biểu diễn tương tự như trên\n    - Dòng cuối cùng trình bày câu kết luận, tức là trả lời câu hỏi “KB entails $\\alpha$?”. In YES nếu KB entails $\\alpha$. Ngược lại, in NO.\n    - Bỏ qua các mệnh đề trùng (xuất hiện trong cùng vòng lặp hay, KB ban đầu hay những vòng lặp trước đó).\n    \n    \n- Hàm main phải thực hiện những thao tác cơ bản như sau:\n    - Đọc dữ liệu đầu vào và lưu trong cấu trúc dữ liệu thích hợp\n    - Gọi hàm PL-Resolution để thực thi giải thuật hợp giải\n    - Ghi dữ liệu đầu ra vào tập tin đầu ra theo định dạng hợp lệ\n\n\n- Lưu ý ngữ nghĩa của giá trị trả về true và false trong hàm PL-RESOLUTION. Đừng quên rằng khi hợp giải thì ta cần phủ định của câu $\\alpha$.\n\n- <font color='red'>Các literal trong cùng mệnh đề (đối với cả dữ liệu đầu vào và đầu ra) được xếp theo thứ tự chữ cái </font>\n- <font color='red'>Kiểm tra điều kiện suy dẫn ở cuối mỗi vòng lặp, tức là khi đã phát sinh hết câu mới từ KB hiện hành, chứ không kiểm tra sau mỗi lần phát sinh một câu </font>\n- <font color='red'>Các mệnh đề dạng $A \\vee B \\vee -B$ có chân trị $True$ vì tương đương với $A \\vee True$. Những mệnh đề như thế này vô ích cho việc suy dẫn và do đó có thể bỏ đi </font>\n\nDữ liệu đầu vào được giả sử hợp lệ, các bạn không cần kiểm tra điều này.",
      "metadata": {
        "deletable": false,
        "editable": false,
        "nbgrader": {
          "cell_type": "markdown",
          "checksum": "d6d947c497e61b220d35a892ef031008",
          "grade": false,
          "grade_id": "PS4",
          "locked": true,
          "schema_version": 3,
          "solution": false,
          "task": false
        }
      },
      "id": "695f43f9-95d7-4fb4-85f6-4e8dfeeb5637"
    },
    {
      "cell_type": "markdown",
      "source": "Ví dụ với KB và câu $\\alpha$ trong tập tin **input.txt**\n\n| Input.txt | Output.txt | Ghi chú |\n| --- | --- | --- |\n| -A | 3 |  |\n| 4 | -A | (-A OR B) hợp giải với (-B)|\n| -A OR B | B | (-A OR B) hợp giải với (negative of -A) |\n| B OR -C | -C | (-C OR B) hợp giải với (-B) |\n| A OR -B OR C | 4 |  |\n| -B | -B OR C | (A OR C OR -B) hợp giải với (-A) |\n|  | A OR C | (A OR C OR -B) hợp giải với (B) |\n|  | A OR -B| (A OR C OR -B) hợp giải với (-C) |\n|  | {}| (-B) hợp giải với (B) |\n|  | **YES** | KB entails $\\alpha$ vì tồn tại mệnh đề rỗng trong KB |\n\n\nMột ví dụ khác với cùng KB nhưng khác câu $\\alpha$\n\n| Input.txt | Output.txt | Ghi chú |\n| --- | --- | --- |\n| A | 2 | KB KHÔNG entail $\\alpha$ vì không phát sinh được mệnh đề mới và không tìm thấy mệnh đề rỗng|\n| 4 | -C |  |\n| -A OR B | -B OR C |  |\n| -C OR B | 2 |  |\n| A OR C OR -B | A OR -B |  |\n| -B | -A OR C |  |\n|  | 1 |  |\n|  | A OR -C |  |\n|  | **0** |  |\n|  | NO |  |\n\n\n\n\n\n",
      "metadata": {
        "deletable": false,
        "editable": false,
        "nbgrader": {
          "cell_type": "markdown",
          "checksum": "2a1433bd71adb92c6f85ce19651d52b8",
          "grade": false,
          "grade_id": "PS4_input",
          "locked": true,
          "schema_version": 3,
          "solution": false,
          "task": false
        }
      },
      "id": "750ff0fd-0056-472f-b20b-cd91dcde62f2"
    },
    {
      "cell_type": "markdown",
      "source": "**b. Tiêu chí đánh giá**\n\n| **STT** | **Đặc tả tiêu chí** | **Điểm** |\n| --- | --- | --- |\n| 1 | Đọc dữ liệu đầu vào và lưu trong cấu trúc dữ liệu phù hợp | 0.5 |\n| 2 | Cài đặt giải thuật hợp giải trên logic mệnh đề  | 1 |\n| 3 | Các bước suy diễn phát sinh đủ mệnh đề và kết luận đúng | 2.5 |\n| 4 | Tuân thủ mô tả định dạng của đề bài | 0.5 |\n| 5 | Báo cáo test case và đánh giá | 0.5 |",
      "metadata": {
        "deletable": false,
        "editable": false,
        "nbgrader": {
          "cell_type": "markdown",
          "checksum": "5c1df22dc7f3822ece65c86fca30af9b",
          "grade": false,
          "grade_id": "GRADE_PS4",
          "locked": true,
          "schema_version": 3,
          "solution": false,
          "task": false
        }
      },
      "id": "622bed74-9659-42f4-abec-2e8df0d9874f"
    }
  ]
}